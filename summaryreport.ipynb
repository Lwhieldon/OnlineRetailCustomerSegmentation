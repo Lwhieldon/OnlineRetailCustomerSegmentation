{
 "metadata": {
  "language_info": {
   "codemirror_mode": {
    "name": "ipython",
    "version": 3
   },
   "file_extension": ".py",
   "mimetype": "text/x-python",
   "name": "python",
   "nbconvert_exporter": "python",
   "pygments_lexer": "ipython3",
   "version": 3
  },
  "orig_nbformat": 2
 },
 "nbformat": 4,
 "nbformat_minor": 2,
 "cells": [
  {
   "source": [
    "<p align=\"center\">\n",
    "<img src=\"https://github.com/Lwhieldon/OnlineRetailCustomerSegmentation/blob/main/images/Customer-segmentation-performance-matrix.png?raw=true\"  style=\"width: 800px;\"  />\n",
    "</p>"
   ],
   "cell_type": "markdown",
   "metadata": {}
  }
 ]
}